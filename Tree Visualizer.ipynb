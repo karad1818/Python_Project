{
  "nbformat": 4,
  "nbformat_minor": 0,
  "metadata": {
    "colab": {
      "name": "simulation.ipynb",
      "provenance": [],
      "collapsed_sections": [],
      "mount_file_id": "1FIpLFFOSAeFi4J6aU-2rMSQBNdXGH8R-",
      "authorship_tag": "ABX9TyMr2ROFNuc/u3oO1beE/hRz",
      "include_colab_link": true
    },
    "kernelspec": {
      "display_name": "Python 3",
      "name": "python3"
    },
    "language_info": {
      "name": "python"
    }
  },
  "cells": [
    {
      "cell_type": "markdown",
      "metadata": {
        "id": "view-in-github",
        "colab_type": "text"
      },
      "source": [
        "<a href=\"https://colab.research.google.com/github/karad1818/Python_Project/blob/main/Tree%20Visualizer.ipynb\" target=\"_parent\"><img src=\"https://colab.research.google.com/assets/colab-badge.svg\" alt=\"Open In Colab\"/></a>"
      ]
    },
    {
      "cell_type": "code",
      "metadata": {
        "colab": {
          "base_uri": "https://localhost:8080/",
          "height": 237
        },
        "id": "gAMuVJS-9iSe",
        "outputId": "21ff3df8-393e-4824-c5fc-32ce9a0ab8f7"
      },
      "source": [
        "import cv2 as cv\n",
        "import numpy as np\n",
        "import matplotlib.pyplot as draw\n",
        "import math\n",
        "\n",
        "\n",
        "# img = draw_circle_text(img,2,900,800)\n",
        "# img = draw_line(img,570,470,830,730)\n",
        "\n",
        "\n",
        "# img = draw_circle_text(img,3,100,800)\n",
        "# img = draw_line(img,430,470,170,730)\n",
        "\n",
        "store = dict()\n",
        "store[1] = [2500,200]\n",
        "\n",
        "# list_of_node = [1,2,3,4,5,6,7,8,9,12,10,11,13,14,15]\n",
        "inp = str(input())\n",
        "list_of_node = inp.split(',')\n",
        "# print(l)\n",
        "height = math.floor(math.log2(len(list_of_node)))\n",
        "\n",
        "print(\"height : \"+str(height))\n",
        "queue = [1]\n",
        "color = (255,255,255);\n",
        "\n",
        "def draw_circle_text(img,number,x,y):\n",
        "  py = y + 50\n",
        "  px = x - 50\n",
        "  img = cv.circle(img,(x,y),100,color,3)\n",
        "  st = str(number)\n",
        "  if len(st)>1:\n",
        "    st = st[0] + \"..\"\n",
        "    img = cv.putText(img,st,(px,py),cv.FONT_HERSHEY_SIMPLEX,3.5,color,10,cv.LINE_AA)\n",
        "  else:\n",
        "    img = cv.putText(img,st,(px,py),cv.FONT_HERSHEY_SIMPLEX,5,color,10,cv.LINE_AA)\n",
        "  return img\n",
        "\n",
        "def draw_line(img,x1,y1,x2,y2):\n",
        "  return cv.line(img,(x1,y1),(x2,y2),color,3)\n",
        "\n",
        "def right_child(img,number,px,py,space):\n",
        "  global store\n",
        "  cx = px + space\n",
        "  cy = py + 400\n",
        "  store[number] = [cx,cy]\n",
        "  lx1 = px + 70 \n",
        "  lx2 = cx - 70\n",
        "  ly1 = py + 70\n",
        "  ly2 = cy - 70\n",
        "  img = draw_line(img,lx1,ly1,lx2,ly2)\n",
        "  return draw_circle_text(img,number,cx,cy)\n",
        "\n",
        "def left_child(img,number,px,py,space):\n",
        "  global store\n",
        "  cx = px - space\n",
        "  cy = py + 400\n",
        "  store[number] = [cx,cy]\n",
        "  lx1 = px - 70\n",
        "  lx2 = cx + 70\n",
        "  ly1 = py + 70\n",
        "  ly2 = cy - 70\n",
        "  img = draw_line(img,lx1,ly1,lx2,ly2)\n",
        "  return draw_circle_text(img,number,cx,cy)\n",
        "\n",
        "# create empty blank image\n",
        "img = np.zeros((2000,5000),dtype=np.uint8)\n",
        "\n",
        "# parent node\n",
        "img = draw_circle_text(img,1,2500,200)\n",
        "\n",
        "level = 0\n",
        "p = 2\n",
        "for i in range(1,len(list_of_node),2):\n",
        "  front = queue[0]\n",
        "  px = store[front][0]\n",
        "  py = store[front][1]\n",
        "  # print(px,py)\n",
        "  queue.pop(0)\n",
        "  h = 2**(height-1)\n",
        "  space = (h*500+(h-1)*10)//2\n",
        "  space = int(space)\n",
        "  if list_of_node[i]!= 'null':\n",
        "    queue.append(list_of_node[i])\n",
        "    img = left_child(img,list_of_node[i],px,py,space)\n",
        "\n",
        "  if i+1 < len(list_of_node) and list_of_node[i+1] != 'null':\n",
        "    queue.append(list_of_node[i+1])\n",
        "    img = right_child(img,list_of_node[i+1],px,py,space)\n",
        "\n",
        "  level += 2\n",
        "  if level % p == 0:\n",
        "    height -= 1\n",
        "    level = 0\n",
        "    p *= 2\n",
        "\n",
        "img = cv.cvtColor(img,cv.COLOR_BGR2RGB)\n",
        "draw.imshow(img)\n",
        "\n",
        "# for i,j in store.items():\n",
        "  # print(str(i) + \"-->\" + str(j[0]) + \", \" + str(j[1]))"
      ],
      "execution_count": 50,
      "outputs": [
        {
          "output_type": "stream",
          "text": [
            "1,2,3,4,5,6,7,8,9,null,10,11,null,12\n",
            "height : 3\n"
          ],
          "name": "stdout"
        },
        {
          "output_type": "execute_result",
          "data": {
            "text/plain": [
              "<matplotlib.image.AxesImage at 0x7f8e67380150>"
            ]
          },
          "metadata": {
            "tags": []
          },
          "execution_count": 50
        },
        {
          "output_type": "display_data",
          "data": {
            "image/png": "[encoded data removed]",
            "text/plain": [
              "<Figure size 432x288 with 1 Axes>"
            ]
          },
          "metadata": {
            "tags": [],
            "needs_background": "light"
          }
        }
      ]
    },
    {
      "cell_type": "code",
      "metadata": {
        "id": "OFcy6ADwLTdB"
      },
      "source": [
        ""
      ],
      "execution_count": null,
      "outputs": []
    }
  ]
}