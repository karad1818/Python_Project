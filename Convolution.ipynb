{
  "nbformat": 4,
  "nbformat_minor": 0,
  "metadata": {
    "colab": {
      "name": "Convolution.ipynb",
      "provenance": [],
      "authorship_tag": "ABX9TyMMtxw1y+G8aticg9asVBTX",
      "include_colab_link": true
    },
    "kernelspec": {
      "name": "python3",
      "display_name": "Python 3"
    },
    "language_info": {
      "name": "python"
    }
  },
  "cells": [
    {
      "cell_type": "markdown",
      "metadata": {
        "id": "view-in-github",
        "colab_type": "text"
      },
      "source": [
        "<a href=\"https://colab.research.google.com/github/karad1818/Python_Project/blob/main/Convolution.ipynb\" target=\"_parent\"><img src=\"https://colab.research.google.com/assets/colab-badge.svg\" alt=\"Open In Colab\"/></a>"
      ]
    },
    {
      "cell_type": "markdown",
      "metadata": {
        "id": "aDVMfrvBNL2a"
      },
      "source": [
        " **Resources** : https://www.algorithm-archive.org/contents/convolutions/convolutions.html\n",
        "               : https://stackoverflow.com/questions/20036663/understanding-numpys-convolve\n",
        "\n",
        " **What it is ?**\n",
        "\n",
        "let's say we have a two function F and G then blending of that two functions known as Convolution (C)\n",
        " C = F * G (where * represents the convolution between them)\n",
        "\n",
        " **Linear Convolution (1D) :**\n",
        "\n",
        " $(f*g)[n] = \\sum_{m = -\\infty}^{\\infty}f[m]g[n-m] = \\sum_{m = -\\infty}^{\\infty}f[n-m]g[m]$\n",
        "\n",
        " \n"
      ]
    },
    {
      "cell_type": "markdown",
      "metadata": {
        "id": "qdVIvbP1NpM5"
      },
      "source": [
        "$a = [1,2,3,4,5]$\n",
        "\n",
        "$g = [10,20,30]$\n",
        "\n",
        "do not care about boundaries\n",
        "\n",
        "$ c(n) = a(n-1)*30 + a(n)*20 + a(n+1)*10 $\n",
        "\n"
      ]
    },
    {
      "cell_type": "code",
      "metadata": {
        "colab": {
          "base_uri": "https://localhost:8080/",
          "height": 513
        },
        "id": "piiwXHlsOyeD",
        "outputId": "343fd186-0b35-4cd0-823a-a42dce0659d8"
      },
      "source": [
        "import cv2 as cv\n",
        "import numpy as np\n",
        "import matplotlib.pyplot as draw\n",
        "from numpy import convolve\n",
        "\n",
        "def draw_two(one,two):\n",
        "  d = draw.figure()\n",
        "  d.add_subplot(1,2,1)\n",
        "  draw.plot(one)\n",
        "  d.add_subplot(1,2,2)\n",
        "  draw.plot(two)\n",
        "\n",
        "def Convolution(sig,filter):\n",
        "  # full convolution\n",
        "  filter = np.flipud(filter)\n",
        "  m = filter.size\n",
        "  l = list()\n",
        "  for i in range(0,((m+1)//2)-1,1):\n",
        "    l.append(0)\n",
        "\n",
        "  for i in sig:\n",
        "    l.append(i)\n",
        "\n",
        "  for i in range(0,(m)//2,1):\n",
        "    l.append(0)\n",
        "\n",
        "  sig = np.array(l)\n",
        "  n = sig.size\n",
        "  final = [None]*n\n",
        "  for i in range(0,n,1):\n",
        "    ans = 0\n",
        "    k = i\n",
        "    for j in range(m//2,-1,-1):    # ans += sig[i+j]*filter[m-j-1] it's not convolved with mid point\n",
        "      if k>=0 and k<n :            # for circular remove this condition\n",
        "        ans += filter[j]*sig[k]  \n",
        "        k -= 1\n",
        "\n",
        "    k = i+1\n",
        "    for j in range((m//2) + 1,m,1):\n",
        "      if k<n:\n",
        "        ans += filter[j]*sig[k]  # for circular write  k%n\n",
        "        k += 1\n",
        "    \n",
        "    final[i] = ans\n",
        "  return np.array(final)\n",
        "\n",
        "sig = np.array([0,0,0,0,0,0,0,0,0,5,5,5,5,5,5,5,5,0,0,0,0,0,0,0,0,0])\n",
        "filter = np.array([0,6,5,4,3,2,1])\n",
        "\n",
        "# sig = np.random.rand(1,100)\n",
        "# sig = sig[0]*100\n",
        "# filter = np.random.rand(1,20)\n",
        "# filter = filter[0]*100\n",
        "\n",
        "draw_two(sig,filter)\n",
        "draw_two(Convolution(sig,filter),convolve(sig,filter))\n",
        "\n",
        "#complexity is O(N*M) we need better algorithm\n",
        "\n"
      ],
      "execution_count": 85,
      "outputs": [
        {
          "output_type": "display_data",
          "data": {
            "image/png": "[encoded data removed]",
            "text/plain": [
              "<Figure size 432x288 with 2 Axes>"
            ]
          },
          "metadata": {
            "tags": [],
            "needs_background": "light"
          }
        },
        {
          "output_type": "display_data",
          "data": {
            "image/png": "[encoded data removed]",
            "text/plain": [
              "<Figure size 432x288 with 2 Axes>"
            ]
          },
          "metadata": {
            "tags": [],
            "needs_background": "light"
          }
        }
      ]
    },
    {
      "cell_type": "code",
      "metadata": {
        "id": "2yolQzX8KQxC"
      },
      "source": [
        ""
      ],
      "execution_count": null,
      "outputs": []
    }
  ]
}