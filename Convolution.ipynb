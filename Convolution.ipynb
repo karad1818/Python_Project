{
  "nbformat": 4,
  "nbformat_minor": 0,
  "metadata": {
    "colab": {
      "name": "Convolution.ipynb",
      "provenance": [],
      "mount_file_id": "1ytCnwwnQUi719O5MG_UbII186WlOG6U4",
      "authorship_tag": "ABX9TyMDcAsLOn+iBt8u/Mz/gwq3",
      "include_colab_link": true
    },
    "kernelspec": {
      "name": "python3",
      "display_name": "Python 3"
    },
    "language_info": {
      "name": "python"
    }
  },
  "cells": [
    {
      "cell_type": "markdown",
      "metadata": {
        "id": "view-in-github",
        "colab_type": "text"
      },
      "source": [
        "<a href=\"https://colab.research.google.com/github/karad1818/Python_Project/blob/main/Convolution.ipynb\" target=\"_parent\"><img src=\"https://colab.research.google.com/assets/colab-badge.svg\" alt=\"Open In Colab\"/></a>"
      ]
    },
    {
      "cell_type": "markdown",
      "metadata": {
        "id": "aDVMfrvBNL2a"
      },
      "source": [
        " **Resources** : https://www.algorithm-archive.org/contents/convolutions/convolutions.html\n",
        "               : https://stackoverflow.com/questions/20036663/understanding-numpys-convolve\n",
        "\n",
        " **What it is ?**\n",
        "\n",
        "let's say we have a two function F and G then blending of that two functions known as Convolution (C)\n",
        " C = F * G (where * represents the convolution between them)\n",
        "\n",
        " **Linear Convolution (1D) :**\n",
        "\n",
        " $(f*g)[n] = \\sum_{m = -\\infty}^{\\infty}f[m]g[n-m] = \\sum_{m = -\\infty}^{\\infty}f[n-m]g[m]$\n",
        "\n",
        " \n"
      ]
    },
    {
      "cell_type": "markdown",
      "metadata": {
        "id": "qdVIvbP1NpM5"
      },
      "source": [
        "$a = [1,2,3,4,5]$\n",
        "\n",
        "$g = [10,20,30]$\n",
        "\n",
        "do not care about boundaries\n",
        "\n",
        "$ c(n) = a(n-1)*30 + a(n)*20 + a(n+1)*10 $\n",
        "\n"
      ]
    },
    {
      "cell_type": "code",
      "metadata": {
        "colab": {
          "base_uri": "https://localhost:8080/",
          "height": 513
        },
        "id": "piiwXHlsOyeD",
        "outputId": "dd7c75b9-8a65-430a-eb7e-c65853e292ed"
      },
      "source": [
        "import cv2 as cv\n",
        "import numpy as np\n",
        "import matplotlib.pyplot as draw\n",
        "from numpy import convolve\n",
        "\n",
        "def draw_two(one,two):\n",
        "  d = draw.figure()\n",
        "  d.add_subplot(1,2,1)\n",
        "  draw.plot(one)\n",
        "  d.add_subplot(1,2,2)\n",
        "  draw.plot(two)\n",
        "\n",
        "def Convolution(sig,filter):\n",
        "  # full convolution\n",
        "  filter = np.flipud(filter)\n",
        "  m = filter.size\n",
        "  l = list()\n",
        "  for i in range(0,((m+1)//2)-1,1):\n",
        "    l.append(0)\n",
        "\n",
        "  for i in sig:\n",
        "    l.append(i)\n",
        "\n",
        "  for i in range(0,(m)//2,1):\n",
        "    l.append(0)\n",
        "\n",
        "  sig = np.array(l)\n",
        "  n = sig.size\n",
        "  final = [None]*n\n",
        "  for i in range(0,n,1):\n",
        "    ans = 0\n",
        "    k = i\n",
        "    for j in range(m//2,-1,-1):    # ans += sig[i+j]*filter[m-j-1] it's not convolved with mid point\n",
        "      if k>=0 and k<n :            # for circular remove this condition\n",
        "        ans += filter[j]*sig[k]  \n",
        "        k -= 1\n",
        "\n",
        "    k = i+1\n",
        "    for j in range((m//2) + 1,m,1):\n",
        "      if k<n:\n",
        "        ans += filter[j]*sig[k]  # for circular write  k%n\n",
        "        k += 1\n",
        "    \n",
        "    final[i] = ans\n",
        "  return np.array(final)\n",
        "\n",
        "sig = np.array([0,0,0,0,0,0,0,0,0,5,5,5,5,5,5,5,5,0,0,0,0,0,0,0,0,0])\n",
        "filter = np.array([0,6,5,4,3,2,1])\n",
        "\n",
        "# sig = np.random.rand(1,100)\n",
        "# sig = sig[0]*100\n",
        "# filter = np.random.rand(1,20)\n",
        "# filter = filter[0]*100\n",
        "\n",
        "draw_two(sig,filter)\n",
        "draw_two(Convolution(sig,filter),convolve(sig,filter))\n",
        "\n",
        "#complexity is O(N*M) we need better algorithm\n",
        "\n",
        "# Example of multplication :\n",
        "# print(Convolution(np.array([1,2,3]),np.array([4,5,6])))\n"
      ],
      "execution_count": 1,
      "outputs": [
        {
          "output_type": "display_data",
          "data": {
            "image/png": "[encoded data removed]",
            "text/plain": [
              "<Figure size 432x288 with 2 Axes>"
            ]
          },
          "metadata": {
            "tags": [],
            "needs_background": "light"
          }
        },
        {
          "output_type": "display_data",
          "data": {
            "image/png": "[encoded data removed]",
            "text/plain": [
              "<Figure size 432x288 with 2 Axes>"
            ]
          },
          "metadata": {
            "tags": [],
            "needs_background": "light"
          }
        }
      ]
    },
    {
      "cell_type": "markdown",
      "metadata": {
        "id": "A9f8toOuSbJK"
      },
      "source": [
        "### Multiplication as Convolution :\n",
        "![](https://i.ibb.co/zmzxTxC/multi.png)\n",
        "\n",
        "\n",
        "![](https://i.ibb.co/kQK8CPP/def.png)"
      ]
    },
    {
      "cell_type": "code",
      "metadata": {
        "colab": {
          "base_uri": "https://localhost:8080/",
          "height": 204
        },
        "id": "L7VGLcDBn-QV",
        "outputId": "729e5376-c762-4b7e-d1d3-e327fda12a1f"
      },
      "source": [
        "# Convolution on images (2D convolution) :\n",
        "from scipy import signal\n",
        "main = cv.imread('/content/drive/MyDrive/Digital_image_processing/written.png')\n",
        "filter = np.ones((11,11),dtype=np.float64)/121\n",
        "\n",
        "def Convolution_2D(main,filter):\n",
        "  n , m , k = main.shape\n",
        "  f_n , f_m = filter.shape\n",
        "  print(n,m,k)\n",
        "  final = np.zeros((n,m,k),dtype=np.uint8)\n",
        "\n",
        "  if f_n != f_m or f_n%2 == 0:\n",
        "    return \"Kernel should be of odd size\"\n",
        "\n",
        "  dx = []\n",
        "  dy = []\n",
        "  init = []\n",
        "  for i in range(-(f_n//2),(f_n//2)+1,1):\n",
        "    init.append(i)\n",
        "  x = 0;\n",
        "  y = 0\n",
        "  for i in range(1,f_n*f_n+1,1):\n",
        "    dx.append(init[x])\n",
        "    dy.append(init[y])\n",
        "    y += 1\n",
        "    if i%f_n == 0:\n",
        "      x += 1\n",
        "      y = 0\n",
        "  \n",
        "  valid = lambda x,y : x>=0 and y>=0 and x<n and y<m\n",
        "\n",
        "  for i in range(0,n,1):\n",
        "    for j in range(0,m,1):\n",
        "      for p in range(0,k,1):\n",
        "        temp = 0\n",
        "        start = 0\n",
        "        end = 0\n",
        "        for l in range(0,len(dx),1):\n",
        "          x = i + dx[l]\n",
        "          y = j + dy[l]\n",
        "          if valid(x,y):\n",
        "            temp += main[x][y][p] * filter[dx[l]+(f_n//2)][dy[l]+(f_n//2)]\n",
        "        \n",
        "        temp = int(temp)\n",
        "        final[i][j][p] = temp\n",
        "\n",
        "  return final\n",
        "\n",
        "        \n",
        "out = Convolution_2D(main,filter) # this one will take almost 4 minutes\n",
        "\n",
        "# for comparison\n",
        "red = signal.convolve2d(main[:,:,0],filter,boundary='symm', mode='same')\n",
        "green = signal.convolve2d(main[:,:,1],filter,boundary='symm', mode='same')\n",
        "blue = signal.convolve2d(main[:,:,2],filter,boundary='symm', mode='same')\n",
        "\n",
        "original = np.zeros(main.shape,dtype=np.uint8)\n",
        "original[:,:,0] = red\n",
        "original[:,:,1] = green\n",
        "original[:,:,2] = blue\n",
        "\n",
        "# print\n",
        "\n",
        "fig = draw.figure()\n",
        "fig.add_subplot(1,2,1)\n",
        "draw.imshow(out)\n",
        "fig.add_subplot(1,2,2)\n",
        "draw.imshow(original)\n"
      ],
      "execution_count": 54,
      "outputs": [
        {
          "output_type": "stream",
          "text": [
            "343 441 3\n"
          ],
          "name": "stdout"
        },
        {
          "output_type": "execute_result",
          "data": {
            "text/plain": [
              "<matplotlib.image.AxesImage at 0x7f41cd32c490>"
            ]
          },
          "metadata": {
            "tags": []
          },
          "execution_count": 54
        },
        {
          "output_type": "display_data",
          "data": {
            "image/png": "[encoded data removed]",
            "text/plain": [
              "<Figure size 432x288 with 2 Axes>"
            ]
          },
          "metadata": {
            "tags": [],
            "needs_background": "light"
          }
        }
      ]
    }
  ]
}